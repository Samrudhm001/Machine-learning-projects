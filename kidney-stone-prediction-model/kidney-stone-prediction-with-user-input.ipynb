{
 "cells": [
  {
   "cell_type": "code",
   "execution_count": 1,
   "id": "6113b5d3",
   "metadata": {
    "_cell_guid": "b1076dfc-b9ad-4769-8c92-a6c4dae69d19",
    "_uuid": "8f2839f25d086af736a60e9eeb907d3b93b6e0e5",
    "execution": {
     "iopub.execute_input": "2024-01-02T16:36:36.824853Z",
     "iopub.status.busy": "2024-01-02T16:36:36.824433Z",
     "iopub.status.idle": "2024-01-02T16:36:37.267815Z",
     "shell.execute_reply": "2024-01-02T16:36:37.266478Z"
    },
    "papermill": {
     "duration": 0.456759,
     "end_time": "2024-01-02T16:36:37.271065",
     "exception": false,
     "start_time": "2024-01-02T16:36:36.814306",
     "status": "completed"
    },
    "tags": []
   },
   "outputs": [
    {
     "name": "stdout",
     "output_type": "stream",
     "text": [
      "/kaggle/input/kidneystone/kidney-stone-dataset.csv\n"
     ]
    }
   ],
   "source": [
    "# This Python 3 environment comes with many helpful analytics libraries installed\n",
    "# It is defined by the kaggle/python Docker image: https://github.com/kaggle/docker-python\n",
    "# For example, here's several helpful packages to load\n",
    "\n",
    "import numpy as np # linear algebra\n",
    "import pandas as pd # data processing, CSV file I/O (e.g. pd.read_csv)\n",
    "\n",
    "# Input data files are available in the read-only \"../input/\" directory\n",
    "# For example, running this (by clicking run or pressing Shift+Enter) will list all files under the input directory\n",
    "\n",
    "import os\n",
    "for dirname, _, filenames in os.walk('/kaggle/input'):\n",
    "    for filename in filenames:\n",
    "        print(os.path.join(dirname, filename))\n",
    "\n",
    "# You can write up to 20GB to the current directory (/kaggle/working/) that gets preserved as output when you create a version using \"Save & Run All\" \n",
    "# You can also write temporary files to /kaggle/temp/, but they won't be saved outside of the current session"
   ]
  },
  {
   "cell_type": "code",
   "execution_count": 2,
   "id": "171f4844",
   "metadata": {
    "execution": {
     "iopub.execute_input": "2024-01-02T16:36:37.289362Z",
     "iopub.status.busy": "2024-01-02T16:36:37.288861Z",
     "iopub.status.idle": "2024-01-02T16:36:38.583320Z",
     "shell.execute_reply": "2024-01-02T16:36:38.582432Z"
    },
    "papermill": {
     "duration": 1.306582,
     "end_time": "2024-01-02T16:36:38.586017",
     "exception": false,
     "start_time": "2024-01-02T16:36:37.279435",
     "status": "completed"
    },
    "tags": []
   },
   "outputs": [],
   "source": [
    "import pandas as pd\n",
    "import seaborn as sns\n",
    "import matplotlib.pyplot as plt\n",
    "%matplotlib inline\n",
    "import numpy as np\n",
    "import math"
   ]
  },
  {
   "cell_type": "code",
   "execution_count": 3,
   "id": "701c6038",
   "metadata": {
    "execution": {
     "iopub.execute_input": "2024-01-02T16:36:38.604391Z",
     "iopub.status.busy": "2024-01-02T16:36:38.603652Z",
     "iopub.status.idle": "2024-01-02T16:36:38.649937Z",
     "shell.execute_reply": "2024-01-02T16:36:38.648808Z"
    },
    "papermill": {
     "duration": 0.058444,
     "end_time": "2024-01-02T16:36:38.652572",
     "exception": false,
     "start_time": "2024-01-02T16:36:38.594128",
     "status": "completed"
    },
    "tags": []
   },
   "outputs": [
    {
     "data": {
      "text/html": [
       "<div>\n",
       "<style scoped>\n",
       "    .dataframe tbody tr th:only-of-type {\n",
       "        vertical-align: middle;\n",
       "    }\n",
       "\n",
       "    .dataframe tbody tr th {\n",
       "        vertical-align: top;\n",
       "    }\n",
       "\n",
       "    .dataframe thead th {\n",
       "        text-align: right;\n",
       "    }\n",
       "</style>\n",
       "<table border=\"1\" class=\"dataframe\">\n",
       "  <thead>\n",
       "    <tr style=\"text-align: right;\">\n",
       "      <th></th>\n",
       "      <th>Unnamed: 0</th>\n",
       "      <th>gravity</th>\n",
       "      <th>ph</th>\n",
       "      <th>osmo</th>\n",
       "      <th>cond</th>\n",
       "      <th>urea</th>\n",
       "      <th>calc</th>\n",
       "      <th>target</th>\n",
       "    </tr>\n",
       "  </thead>\n",
       "  <tbody>\n",
       "    <tr>\n",
       "      <th>0</th>\n",
       "      <td>0</td>\n",
       "      <td>1.021</td>\n",
       "      <td>4.91</td>\n",
       "      <td>725</td>\n",
       "      <td>14.0</td>\n",
       "      <td>443</td>\n",
       "      <td>2.45</td>\n",
       "      <td>0</td>\n",
       "    </tr>\n",
       "    <tr>\n",
       "      <th>1</th>\n",
       "      <td>1</td>\n",
       "      <td>1.017</td>\n",
       "      <td>5.74</td>\n",
       "      <td>577</td>\n",
       "      <td>20.0</td>\n",
       "      <td>296</td>\n",
       "      <td>4.49</td>\n",
       "      <td>0</td>\n",
       "    </tr>\n",
       "    <tr>\n",
       "      <th>2</th>\n",
       "      <td>2</td>\n",
       "      <td>1.008</td>\n",
       "      <td>7.20</td>\n",
       "      <td>321</td>\n",
       "      <td>14.9</td>\n",
       "      <td>101</td>\n",
       "      <td>2.36</td>\n",
       "      <td>0</td>\n",
       "    </tr>\n",
       "    <tr>\n",
       "      <th>3</th>\n",
       "      <td>3</td>\n",
       "      <td>1.011</td>\n",
       "      <td>5.51</td>\n",
       "      <td>408</td>\n",
       "      <td>12.6</td>\n",
       "      <td>224</td>\n",
       "      <td>2.15</td>\n",
       "      <td>0</td>\n",
       "    </tr>\n",
       "    <tr>\n",
       "      <th>4</th>\n",
       "      <td>4</td>\n",
       "      <td>1.005</td>\n",
       "      <td>6.52</td>\n",
       "      <td>187</td>\n",
       "      <td>7.5</td>\n",
       "      <td>91</td>\n",
       "      <td>1.16</td>\n",
       "      <td>0</td>\n",
       "    </tr>\n",
       "    <tr>\n",
       "      <th>5</th>\n",
       "      <td>5</td>\n",
       "      <td>1.020</td>\n",
       "      <td>5.27</td>\n",
       "      <td>668</td>\n",
       "      <td>25.3</td>\n",
       "      <td>252</td>\n",
       "      <td>3.34</td>\n",
       "      <td>0</td>\n",
       "    </tr>\n",
       "    <tr>\n",
       "      <th>6</th>\n",
       "      <td>6</td>\n",
       "      <td>1.012</td>\n",
       "      <td>5.62</td>\n",
       "      <td>461</td>\n",
       "      <td>17.4</td>\n",
       "      <td>195</td>\n",
       "      <td>1.40</td>\n",
       "      <td>0</td>\n",
       "    </tr>\n",
       "    <tr>\n",
       "      <th>7</th>\n",
       "      <td>7</td>\n",
       "      <td>1.029</td>\n",
       "      <td>5.67</td>\n",
       "      <td>1107</td>\n",
       "      <td>35.9</td>\n",
       "      <td>550</td>\n",
       "      <td>8.48</td>\n",
       "      <td>0</td>\n",
       "    </tr>\n",
       "    <tr>\n",
       "      <th>8</th>\n",
       "      <td>8</td>\n",
       "      <td>1.015</td>\n",
       "      <td>5.41</td>\n",
       "      <td>543</td>\n",
       "      <td>21.9</td>\n",
       "      <td>170</td>\n",
       "      <td>1.16</td>\n",
       "      <td>0</td>\n",
       "    </tr>\n",
       "    <tr>\n",
       "      <th>9</th>\n",
       "      <td>9</td>\n",
       "      <td>1.021</td>\n",
       "      <td>6.13</td>\n",
       "      <td>779</td>\n",
       "      <td>25.7</td>\n",
       "      <td>382</td>\n",
       "      <td>2.21</td>\n",
       "      <td>0</td>\n",
       "    </tr>\n",
       "  </tbody>\n",
       "</table>\n",
       "</div>"
      ],
      "text/plain": [
       "   Unnamed: 0  gravity    ph  osmo  cond  urea  calc  target\n",
       "0           0    1.021  4.91   725  14.0   443  2.45       0\n",
       "1           1    1.017  5.74   577  20.0   296  4.49       0\n",
       "2           2    1.008  7.20   321  14.9   101  2.36       0\n",
       "3           3    1.011  5.51   408  12.6   224  2.15       0\n",
       "4           4    1.005  6.52   187   7.5    91  1.16       0\n",
       "5           5    1.020  5.27   668  25.3   252  3.34       0\n",
       "6           6    1.012  5.62   461  17.4   195  1.40       0\n",
       "7           7    1.029  5.67  1107  35.9   550  8.48       0\n",
       "8           8    1.015  5.41   543  21.9   170  1.16       0\n",
       "9           9    1.021  6.13   779  25.7   382  2.21       0"
      ]
     },
     "execution_count": 3,
     "metadata": {},
     "output_type": "execute_result"
    }
   ],
   "source": [
    "df=pd.read_csv('/kaggle/input/kidneystone/kidney-stone-dataset.csv')\n",
    "df.head(10)"
   ]
  },
  {
   "cell_type": "code",
   "execution_count": 4,
   "id": "dacd13b7",
   "metadata": {
    "execution": {
     "iopub.execute_input": "2024-01-02T16:36:38.672113Z",
     "iopub.status.busy": "2024-01-02T16:36:38.670809Z",
     "iopub.status.idle": "2024-01-02T16:36:39.011501Z",
     "shell.execute_reply": "2024-01-02T16:36:39.010422Z"
    },
    "papermill": {
     "duration": 0.352988,
     "end_time": "2024-01-02T16:36:39.014119",
     "exception": false,
     "start_time": "2024-01-02T16:36:38.661131",
     "status": "completed"
    },
    "tags": []
   },
   "outputs": [
    {
     "data": {
      "text/plain": [
       "<Axes: xlabel='target', ylabel='count'>"
      ]
     },
     "execution_count": 4,
     "metadata": {},
     "output_type": "execute_result"
    },
    {
     "data": {
      "image/png": "[encoded data removed]",
      "text/plain": [
       "<Figure size 640x480 with 1 Axes>"
      ]
     },
     "metadata": {},
     "output_type": "display_data"
    }
   ],
   "source": [
    "sns.countplot(df,x='target')"
   ]
  },
  {
   "cell_type": "code",
   "execution_count": 5,
   "id": "1f8d00ed",
   "metadata": {
    "execution": {
     "iopub.execute_input": "2024-01-02T16:36:39.034790Z",
     "iopub.status.busy": "2024-01-02T16:36:39.034377Z",
     "iopub.status.idle": "2024-01-02T16:36:39.042206Z",
     "shell.execute_reply": "2024-01-02T16:36:39.041042Z"
    },
    "papermill": {
     "duration": 0.021526,
     "end_time": "2024-01-02T16:36:39.044840",
     "exception": false,
     "start_time": "2024-01-02T16:36:39.023314",
     "status": "completed"
    },
    "tags": []
   },
   "outputs": [
    {
     "data": {
      "text/plain": [
       "90"
      ]
     },
     "execution_count": 5,
     "metadata": {},
     "output_type": "execute_result"
    }
   ],
   "source": [
    "len(df.index)"
   ]
  },
  {
   "cell_type": "code",
   "execution_count": 6,
   "id": "bc54ce6e",
   "metadata": {
    "execution": {
     "iopub.execute_input": "2024-01-02T16:36:39.066463Z",
     "iopub.status.busy": "2024-01-02T16:36:39.066086Z",
     "iopub.status.idle": "2024-01-02T16:36:39.388678Z",
     "shell.execute_reply": "2024-01-02T16:36:39.387507Z"
    },
    "papermill": {
     "duration": 0.337361,
     "end_time": "2024-01-02T16:36:39.391272",
     "exception": false,
     "start_time": "2024-01-02T16:36:39.053911",
     "status": "completed"
    },
    "tags": []
   },
   "outputs": [
    {
     "data": {
      "text/plain": [
       "<Axes: ylabel='Frequency'>"
      ]
     },
     "execution_count": 6,
     "metadata": {},
     "output_type": "execute_result"
    },
    {
     "data": {
      "image/png": "[encoded data removed]",
      "text/plain": [
       "<Figure size 640x480 with 1 Axes>"
      ]
     },
     "metadata": {},
     "output_type": "display_data"
    }
   ],
   "source": [
    "df['ph'].plot.hist()"
   ]
  },
  {
   "cell_type": "markdown",
   "id": "0c74903f",
   "metadata": {
    "papermill": {
     "duration": 0.009144,
     "end_time": "2024-01-02T16:36:39.410067",
     "exception": false,
     "start_time": "2024-01-02T16:36:39.400923",
     "status": "completed"
    },
    "tags": []
   },
   "source": [
    "# Data wrangling\n"
   ]
  },
  {
   "cell_type": "code",
   "execution_count": 7,
   "id": "9736d598",
   "metadata": {
    "execution": {
     "iopub.execute_input": "2024-01-02T16:36:39.430837Z",
     "iopub.status.busy": "2024-01-02T16:36:39.430376Z",
     "iopub.status.idle": "2024-01-02T16:36:39.439808Z",
     "shell.execute_reply": "2024-01-02T16:36:39.438572Z"
    },
    "papermill": {
     "duration": 0.022607,
     "end_time": "2024-01-02T16:36:39.442152",
     "exception": false,
     "start_time": "2024-01-02T16:36:39.419545",
     "status": "completed"
    },
    "tags": []
   },
   "outputs": [
    {
     "data": {
      "text/plain": [
       "Unnamed: 0    0\n",
       "gravity       0\n",
       "ph            0\n",
       "osmo          0\n",
       "cond          0\n",
       "urea          0\n",
       "calc          0\n",
       "target        0\n",
       "dtype: int64"
      ]
     },
     "execution_count": 7,
     "metadata": {},
     "output_type": "execute_result"
    }
   ],
   "source": [
    "df.isnull().sum()"
   ]
  },
  {
   "cell_type": "code",
   "execution_count": 8,
   "id": "4919eeeb",
   "metadata": {
    "execution": {
     "iopub.execute_input": "2024-01-02T16:36:39.463716Z",
     "iopub.status.busy": "2024-01-02T16:36:39.463280Z",
     "iopub.status.idle": "2024-01-02T16:36:39.472219Z",
     "shell.execute_reply": "2024-01-02T16:36:39.471013Z"
    },
    "papermill": {
     "duration": 0.022821,
     "end_time": "2024-01-02T16:36:39.474869",
     "exception": false,
     "start_time": "2024-01-02T16:36:39.452048",
     "status": "completed"
    },
    "tags": []
   },
   "outputs": [],
   "source": [
    "df.drop('Unnamed: 0',axis=1,inplace=True)"
   ]
  },
  {
   "cell_type": "code",
   "execution_count": 9,
   "id": "76d66e1d",
   "metadata": {
    "execution": {
     "iopub.execute_input": "2024-01-02T16:36:39.496996Z",
     "iopub.status.busy": "2024-01-02T16:36:39.495621Z",
     "iopub.status.idle": "2024-01-02T16:36:39.511018Z",
     "shell.execute_reply": "2024-01-02T16:36:39.509807Z"
    },
    "papermill": {
     "duration": 0.029109,
     "end_time": "2024-01-02T16:36:39.513655",
     "exception": false,
     "start_time": "2024-01-02T16:36:39.484546",
     "status": "completed"
    },
    "tags": []
   },
   "outputs": [
    {
     "data": {
      "text/html": [
       "<div>\n",
       "<style scoped>\n",
       "    .dataframe tbody tr th:only-of-type {\n",
       "        vertical-align: middle;\n",
       "    }\n",
       "\n",
       "    .dataframe tbody tr th {\n",
       "        vertical-align: top;\n",
       "    }\n",
       "\n",
       "    .dataframe thead th {\n",
       "        text-align: right;\n",
       "    }\n",
       "</style>\n",
       "<table border=\"1\" class=\"dataframe\">\n",
       "  <thead>\n",
       "    <tr style=\"text-align: right;\">\n",
       "      <th></th>\n",
       "      <th>gravity</th>\n",
       "      <th>ph</th>\n",
       "      <th>osmo</th>\n",
       "      <th>cond</th>\n",
       "      <th>urea</th>\n",
       "      <th>calc</th>\n",
       "      <th>target</th>\n",
       "    </tr>\n",
       "  </thead>\n",
       "  <tbody>\n",
       "    <tr>\n",
       "      <th>0</th>\n",
       "      <td>1.021</td>\n",
       "      <td>4.91</td>\n",
       "      <td>725</td>\n",
       "      <td>14.0</td>\n",
       "      <td>443</td>\n",
       "      <td>2.45</td>\n",
       "      <td>0</td>\n",
       "    </tr>\n",
       "    <tr>\n",
       "      <th>1</th>\n",
       "      <td>1.017</td>\n",
       "      <td>5.74</td>\n",
       "      <td>577</td>\n",
       "      <td>20.0</td>\n",
       "      <td>296</td>\n",
       "      <td>4.49</td>\n",
       "      <td>0</td>\n",
       "    </tr>\n",
       "    <tr>\n",
       "      <th>2</th>\n",
       "      <td>1.008</td>\n",
       "      <td>7.20</td>\n",
       "      <td>321</td>\n",
       "      <td>14.9</td>\n",
       "      <td>101</td>\n",
       "      <td>2.36</td>\n",
       "      <td>0</td>\n",
       "    </tr>\n",
       "  </tbody>\n",
       "</table>\n",
       "</div>"
      ],
      "text/plain": [
       "   gravity    ph  osmo  cond  urea  calc  target\n",
       "0    1.021  4.91   725  14.0   443  2.45       0\n",
       "1    1.017  5.74   577  20.0   296  4.49       0\n",
       "2    1.008  7.20   321  14.9   101  2.36       0"
      ]
     },
     "execution_count": 9,
     "metadata": {},
     "output_type": "execute_result"
    }
   ],
   "source": [
    "df.head(3)"
   ]
  },
  {
   "cell_type": "code",
   "execution_count": 10,
   "id": "aae1c017",
   "metadata": {
    "execution": {
     "iopub.execute_input": "2024-01-02T16:36:39.535460Z",
     "iopub.status.busy": "2024-01-02T16:36:39.535077Z",
     "iopub.status.idle": "2024-01-02T16:36:39.775617Z",
     "shell.execute_reply": "2024-01-02T16:36:39.774639Z"
    },
    "papermill": {
     "duration": 0.255041,
     "end_time": "2024-01-02T16:36:39.778504",
     "exception": false,
     "start_time": "2024-01-02T16:36:39.523463",
     "status": "completed"
    },
    "tags": []
   },
   "outputs": [],
   "source": [
    "X=df.drop('target',axis=1)\n",
    "y=df['target']\n",
    "from sklearn.model_selection import train_test_split\n",
    "X_train, X_test, y_train, y_test = train_test_split(X, y, test_size=0.3, random_state=42)"
   ]
  },
  {
   "cell_type": "markdown",
   "id": "78a5f537",
   "metadata": {
    "papermill": {
     "duration": 0.010094,
     "end_time": "2024-01-02T16:36:39.798510",
     "exception": false,
     "start_time": "2024-01-02T16:36:39.788416",
     "status": "completed"
    },
    "tags": []
   },
   "source": [
    "# LogisticRegression"
   ]
  },
  {
   "cell_type": "code",
   "execution_count": 11,
   "id": "71b7af87",
   "metadata": {
    "execution": {
     "iopub.execute_input": "2024-01-02T16:36:39.820319Z",
     "iopub.status.busy": "2024-01-02T16:36:39.819898Z",
     "iopub.status.idle": "2024-01-02T16:36:39.932905Z",
     "shell.execute_reply": "2024-01-02T16:36:39.932041Z"
    },
    "papermill": {
     "duration": 0.126607,
     "end_time": "2024-01-02T16:36:39.935094",
     "exception": false,
     "start_time": "2024-01-02T16:36:39.808487",
     "status": "completed"
    },
    "tags": []
   },
   "outputs": [
    {
     "data": {
      "text/plain": [
       "0.6666666666666666"
      ]
     },
     "execution_count": 11,
     "metadata": {},
     "output_type": "execute_result"
    }
   ],
   "source": [
    "from sklearn.linear_model import LogisticRegression\n",
    "lg=LogisticRegression()\n",
    "lg.fit(X_train,y_train)\n",
    "from sklearn.metrics import accuracy_score\n",
    "y_pred=lg.predict(X_test)\n",
    "accuracy_score(y_test,y_pred)"
   ]
  },
  {
   "cell_type": "markdown",
   "id": "4e6c1d39",
   "metadata": {
    "papermill": {
     "duration": 0.009909,
     "end_time": "2024-01-02T16:36:39.955277",
     "exception": false,
     "start_time": "2024-01-02T16:36:39.945368",
     "status": "completed"
    },
    "tags": []
   },
   "source": [
    "# KNeighborsClassifier"
   ]
  },
  {
   "cell_type": "code",
   "execution_count": 12,
   "id": "31c0148f",
   "metadata": {
    "execution": {
     "iopub.execute_input": "2024-01-02T16:36:39.978884Z",
     "iopub.status.busy": "2024-01-02T16:36:39.977599Z",
     "iopub.status.idle": "2024-01-02T16:36:40.050784Z",
     "shell.execute_reply": "2024-01-02T16:36:40.049646Z"
    },
    "papermill": {
     "duration": 0.087553,
     "end_time": "2024-01-02T16:36:40.053328",
     "exception": false,
     "start_time": "2024-01-02T16:36:39.965775",
     "status": "completed"
    },
    "tags": []
   },
   "outputs": [
    {
     "data": {
      "text/plain": [
       "0.4444444444444444"
      ]
     },
     "execution_count": 12,
     "metadata": {},
     "output_type": "execute_result"
    }
   ],
   "source": [
    "from sklearn.neighbors import KNeighborsClassifier\n",
    "kn=KNeighborsClassifier()\n",
    "kn.fit(X_train,y_train)\n",
    "y_p=kn.predict(X_test)\n",
    "accuracy_score(y_test,y_p)"
   ]
  },
  {
   "cell_type": "markdown",
   "id": "27cdd5f1",
   "metadata": {
    "papermill": {
     "duration": 0.010027,
     "end_time": "2024-01-02T16:36:40.074899",
     "exception": false,
     "start_time": "2024-01-02T16:36:40.064872",
     "status": "completed"
    },
    "tags": []
   },
   "source": [
    "# RandomForestClassifier"
   ]
  },
  {
   "cell_type": "code",
   "execution_count": 13,
   "id": "6b140d19",
   "metadata": {
    "execution": {
     "iopub.execute_input": "2024-01-02T16:36:40.097918Z",
     "iopub.status.busy": "2024-01-02T16:36:40.096623Z",
     "iopub.status.idle": "2024-01-02T16:36:40.414376Z",
     "shell.execute_reply": "2024-01-02T16:36:40.413411Z"
    },
    "papermill": {
     "duration": 0.33209,
     "end_time": "2024-01-02T16:36:40.417212",
     "exception": false,
     "start_time": "2024-01-02T16:36:40.085122",
     "status": "completed"
    },
    "tags": []
   },
   "outputs": [],
   "source": [
    "from sklearn.ensemble import RandomForestClassifier\n",
    "rf=RandomForestClassifier()\n",
    "rf.fit(X_train,y_train)\n",
    "y_pr=rf.predict(X_test)\n",
    "acc=accuracy_score(y_test,y_pr)"
   ]
  },
  {
   "cell_type": "code",
   "execution_count": 14,
   "id": "5bddca86",
   "metadata": {
    "execution": {
     "iopub.execute_input": "2024-01-02T16:36:40.439701Z",
     "iopub.status.busy": "2024-01-02T16:36:40.439286Z",
     "iopub.status.idle": "2024-01-02T16:36:40.446498Z",
     "shell.execute_reply": "2024-01-02T16:36:40.445376Z"
    },
    "papermill": {
     "duration": 0.02155,
     "end_time": "2024-01-02T16:36:40.449066",
     "exception": false,
     "start_time": "2024-01-02T16:36:40.427516",
     "status": "completed"
    },
    "tags": []
   },
   "outputs": [
    {
     "data": {
      "text/plain": [
       "0.7407407407407407"
      ]
     },
     "execution_count": 14,
     "metadata": {},
     "output_type": "execute_result"
    }
   ],
   "source": [
    "acc"
   ]
  },
  {
   "cell_type": "markdown",
   "id": "263b8727",
   "metadata": {
    "papermill": {
     "duration": 0.010072,
     "end_time": "2024-01-02T16:36:40.469593",
     "exception": false,
     "start_time": "2024-01-02T16:36:40.459521",
     "status": "completed"
    },
    "tags": []
   },
   "source": [
    "# User input"
   ]
  },
  {
   "cell_type": "code",
   "execution_count": 15,
   "id": "c9e2cb8b",
   "metadata": {
    "execution": {
     "iopub.execute_input": "2024-01-02T16:36:40.492912Z",
     "iopub.status.busy": "2024-01-02T16:36:40.492460Z",
     "iopub.status.idle": "2024-01-02T16:36:40.502942Z",
     "shell.execute_reply": "2024-01-02T16:36:40.502047Z"
    },
    "papermill": {
     "duration": 0.025067,
     "end_time": "2024-01-02T16:36:40.505283",
     "exception": false,
     "start_time": "2024-01-02T16:36:40.480216",
     "status": "completed"
    },
    "tags": []
   },
   "outputs": [],
   "source": [
    "import pandas as pd\n",
    "# grav=str(input('input for gravity : ' ))\n",
    "# p=str(input('input for ph : '))\n",
    "# os=str(input('input for osmolarity : '))\n",
    "# co=str(input('input for conductivity : '))\n",
    "# ur=str(input('input for urea concentration : '))\n",
    "# cl=str(input('input for calcium concentration : '))\n",
    "\n",
    "gravity=['1.030']#grav\n",
    "ph=['5.5']#p\n",
    "osmo=['1099']#os\n",
    "cond=['19.9']#co\n",
    "urea=['201']#ur\n",
    "calc=['8.89']#cl\n",
    "\n",
    "dict = {'gravity': gravity,\n",
    "'ph':  ph,\n",
    "'osmo':  osmo,\n",
    "'cond': cond,\n",
    "'urea': urea,\n",
    "'calc':calc }\n",
    "\n",
    "dif = pd.DataFrame(dict)\n",
    "\n",
    "# saving the dataframe\n",
    "dif.to_csv('test.csv')"
   ]
  },
  {
   "cell_type": "code",
   "execution_count": 16,
   "id": "8f298140",
   "metadata": {
    "execution": {
     "iopub.execute_input": "2024-01-02T16:36:40.528811Z",
     "iopub.status.busy": "2024-01-02T16:36:40.527792Z",
     "iopub.status.idle": "2024-01-02T16:36:40.543372Z",
     "shell.execute_reply": "2024-01-02T16:36:40.542191Z"
    },
    "papermill": {
     "duration": 0.030337,
     "end_time": "2024-01-02T16:36:40.545972",
     "exception": false,
     "start_time": "2024-01-02T16:36:40.515635",
     "status": "completed"
    },
    "tags": []
   },
   "outputs": [
    {
     "data": {
      "text/html": [
       "<div>\n",
       "<style scoped>\n",
       "    .dataframe tbody tr th:only-of-type {\n",
       "        vertical-align: middle;\n",
       "    }\n",
       "\n",
       "    .dataframe tbody tr th {\n",
       "        vertical-align: top;\n",
       "    }\n",
       "\n",
       "    .dataframe thead th {\n",
       "        text-align: right;\n",
       "    }\n",
       "</style>\n",
       "<table border=\"1\" class=\"dataframe\">\n",
       "  <thead>\n",
       "    <tr style=\"text-align: right;\">\n",
       "      <th></th>\n",
       "      <th>Unnamed: 0</th>\n",
       "      <th>gravity</th>\n",
       "      <th>ph</th>\n",
       "      <th>osmo</th>\n",
       "      <th>cond</th>\n",
       "      <th>urea</th>\n",
       "      <th>calc</th>\n",
       "    </tr>\n",
       "  </thead>\n",
       "  <tbody>\n",
       "    <tr>\n",
       "      <th>0</th>\n",
       "      <td>0</td>\n",
       "      <td>1.03</td>\n",
       "      <td>5.5</td>\n",
       "      <td>1099</td>\n",
       "      <td>19.9</td>\n",
       "      <td>201</td>\n",
       "      <td>8.89</td>\n",
       "    </tr>\n",
       "  </tbody>\n",
       "</table>\n",
       "</div>"
      ],
      "text/plain": [
       "   Unnamed: 0  gravity   ph  osmo  cond  urea  calc\n",
       "0           0     1.03  5.5  1099  19.9   201  8.89"
      ]
     },
     "execution_count": 16,
     "metadata": {},
     "output_type": "execute_result"
    }
   ],
   "source": [
    "tf=pd.read_csv('/kaggle/working/test.csv')\n",
    "tf"
   ]
  },
  {
   "cell_type": "code",
   "execution_count": 17,
   "id": "fc8cd7ab",
   "metadata": {
    "execution": {
     "iopub.execute_input": "2024-01-02T16:36:40.569050Z",
     "iopub.status.busy": "2024-01-02T16:36:40.568619Z",
     "iopub.status.idle": "2024-01-02T16:36:40.581629Z",
     "shell.execute_reply": "2024-01-02T16:36:40.580813Z"
    },
    "papermill": {
     "duration": 0.027336,
     "end_time": "2024-01-02T16:36:40.583859",
     "exception": false,
     "start_time": "2024-01-02T16:36:40.556523",
     "status": "completed"
    },
    "tags": []
   },
   "outputs": [
    {
     "data": {
      "text/html": [
       "<div>\n",
       "<style scoped>\n",
       "    .dataframe tbody tr th:only-of-type {\n",
       "        vertical-align: middle;\n",
       "    }\n",
       "\n",
       "    .dataframe tbody tr th {\n",
       "        vertical-align: top;\n",
       "    }\n",
       "\n",
       "    .dataframe thead th {\n",
       "        text-align: right;\n",
       "    }\n",
       "</style>\n",
       "<table border=\"1\" class=\"dataframe\">\n",
       "  <thead>\n",
       "    <tr style=\"text-align: right;\">\n",
       "      <th></th>\n",
       "      <th>gravity</th>\n",
       "      <th>ph</th>\n",
       "      <th>osmo</th>\n",
       "      <th>cond</th>\n",
       "      <th>urea</th>\n",
       "      <th>calc</th>\n",
       "    </tr>\n",
       "  </thead>\n",
       "  <tbody>\n",
       "    <tr>\n",
       "      <th>0</th>\n",
       "      <td>1.03</td>\n",
       "      <td>5.5</td>\n",
       "      <td>1099</td>\n",
       "      <td>19.9</td>\n",
       "      <td>201</td>\n",
       "      <td>8.89</td>\n",
       "    </tr>\n",
       "  </tbody>\n",
       "</table>\n",
       "</div>"
      ],
      "text/plain": [
       "   gravity   ph  osmo  cond  urea  calc\n",
       "0     1.03  5.5  1099  19.9   201  8.89"
      ]
     },
     "execution_count": 17,
     "metadata": {},
     "output_type": "execute_result"
    }
   ],
   "source": [
    "tf.drop('Unnamed: 0' ,axis=1,inplace=True)\n",
    "tf"
   ]
  },
  {
   "cell_type": "markdown",
   "id": "61b7a12d",
   "metadata": {
    "papermill": {
     "duration": 0.010507,
     "end_time": "2024-01-02T16:36:40.605412",
     "exception": false,
     "start_time": "2024-01-02T16:36:40.594905",
     "status": "completed"
    },
    "tags": []
   },
   "source": [
    "# Positive-kidney_stone present\n",
    "# Negative-kidney_stone absent"
   ]
  },
  {
   "cell_type": "code",
   "execution_count": 18,
   "id": "c0fc7a78",
   "metadata": {
    "execution": {
     "iopub.execute_input": "2024-01-02T16:36:40.629572Z",
     "iopub.status.busy": "2024-01-02T16:36:40.628879Z",
     "iopub.status.idle": "2024-01-02T16:36:40.644115Z",
     "shell.execute_reply": "2024-01-02T16:36:40.642785Z"
    },
    "papermill": {
     "duration": 0.030081,
     "end_time": "2024-01-02T16:36:40.646488",
     "exception": false,
     "start_time": "2024-01-02T16:36:40.616407",
     "status": "completed"
    },
    "tags": []
   },
   "outputs": [
    {
     "name": "stdout",
     "output_type": "stream",
     "text": [
      "positive probable(0.74)\n"
     ]
    }
   ],
   "source": [
    "y_pri=rf.predict(tf)\n",
    "acc=round(acc,2)\n",
    "if y_pri[0]==0:\n",
    "  print(f'negative probable({acc})')\n",
    "else:\n",
    "   print(f'positive probable({acc})')"
   ]
  },
  {
   "cell_type": "code",
   "execution_count": null,
   "id": "c3abe1b4",
   "metadata": {
    "papermill": {
     "duration": 0.010476,
     "end_time": "2024-01-02T16:36:40.667842",
     "exception": false,
     "start_time": "2024-01-02T16:36:40.657366",
     "status": "completed"
    },
    "tags": []
   },
   "outputs": [],
   "source": []
  }
 ],
 "metadata": {
  "kaggle": {
   "accelerator": "none",
   "dataSources": [
    {
     "datasetId": 3120027,
     "sourceId": 5379484,
     "sourceType": "datasetVersion"
    }
   ],
   "dockerImageVersionId": 30626,
   "isGpuEnabled": false,
   "isInternetEnabled": false,
   "language": "python",
   "sourceType": "notebook"
  },
  "kernelspec": {
   "display_name": "Python 3",
   "language": "python",
   "name": "python3"
  },
  "language_info": {
   "codemirror_mode": {
    "name": "ipython",
    "version": 3
   },
   "file_extension": ".py",
   "mimetype": "text/x-python",
   "name": "python",
   "nbconvert_exporter": "python",
   "pygments_lexer": "ipython3",
   "version": "3.10.12"
  },
  "papermill": {
   "default_parameters": {},
   "duration": 7.926679,
   "end_time": "2024-01-02T16:36:41.299688",
   "environment_variables": {},
   "exception": null,
   "input_path": "__notebook__.ipynb",
   "output_path": "__notebook__.ipynb",
   "parameters": {},
   "start_time": "2024-01-02T16:36:33.373009",
   "version": "2.4.0"
  }
 },
 "nbformat": 4,
 "nbformat_minor": 5
}
